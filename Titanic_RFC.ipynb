{
 "cells": [
  {
   "cell_type": "code",
   "execution_count": null,
   "metadata": {},
   "outputs": [],
   "source": [
    "import numpy as np\n",
    "import pandas as pd\n",
    "\n",
    "import matplotlib.pyplot as plt\n",
    "import seaborn as sns\n",
    "sns.set(style=\"darkgrid\")\n",
    "\n",
    "from sklearn.ensemble import RandomForestClassifier\n",
    "from sklearn.preprocessing import LabelEncoder\n",
    "\n",
    "import string\n",
    "import warnings\n",
    "warnings.filterwarnings('ignore')"
   ]
  },
  {
   "cell_type": "code",
   "execution_count": null,
   "metadata": {},
   "outputs": [],
   "source": [
    "def concat_df(train_data, test_data):\n",
    "    # Returns a concatenated df of training and test set on axis 0\n",
    "    return pd.concat([train_data, test_data], sort=True).reset_index(drop=True)\n",
    "\n",
    "def divide_df(all_data):\n",
    "    # Returns divided dfs of training and test set\n",
    "    return all_data.loc[:890], all_data.loc[891:].drop(['Survived'], axis=1)\n",
    "\n",
    "df_train = pd.read_csv('input/train.csv')\n",
    "df_test = pd.read_csv('input/test.csv')\n",
    "df_all = concat_df(df_train, df_test)\n",
    "\n",
    "df_train.name = 'Training Set'\n",
    "df_test.name = 'Test Set'\n",
    "df_all.name = 'All Set' \n",
    "\n",
    "dfs = [df_train, df_test]"
   ]
  },
  {
   "cell_type": "code",
   "execution_count": null,
   "metadata": {},
   "outputs": [],
   "source": [
    "def display_missing(df):    \n",
    "    for col in df.columns.tolist():          \n",
    "        print('{} column missing values: {}'.format(col, df[col].isnull().sum()))\n",
    "    print('\\n')\n",
    "    \n",
    "for df in dfs:\n",
    "    print('{}'.format(df.name))\n",
    "    display_missing(df)"
   ]
  },
  {
   "cell_type": "code",
   "execution_count": null,
   "metadata": {},
   "outputs": [],
   "source": [
    "age_by_pclass_sex = df_all.groupby(['Sex', 'Pclass']).median()['Age']\n",
    "\n",
    "for pclass in range(1, 4):\n",
    "    for sex in ['female', 'male']:\n",
    "        print('Median age of Pclass {} {}s: {}'.format(pclass, sex, age_by_pclass_sex[sex][pclass]))\n",
    "print('Median age of all passengers: {}'.format(df_all['Age'].median()))\n",
    "\n",
    "# Filling the missing values in Age with the medians of Sex and Pclass groups\n",
    "df_all['Age'] = df_all.groupby(['Sex', 'Pclass'])['Age'].apply(lambda x: x.fillna(x.median()))"
   ]
  },
  {
   "cell_type": "code",
   "execution_count": null,
   "metadata": {},
   "outputs": [],
   "source": [
    "display_missing(df_all)"
   ]
  },
  {
   "cell_type": "code",
   "execution_count": null,
   "metadata": {},
   "outputs": [],
   "source": [
    "df_all['Embarked'] = df_all['Embarked'].fillna('S')\n",
    "df_all['Fare'] = df_all['Fare'].fillna(0)\n",
    "\n",
    "# Creating Deck column from the first letter of the Cabin column (M stands for Missing)\n",
    "df_all['Deck'] = df_all['Cabin'].apply(lambda s: s[0] if pd.notnull(s) else 'M')\n",
    "\n",
    "# Passenger in the T deck is changed to A\n",
    "idx = df_all[df_all['Deck'] == 'T'].index\n",
    "df_all.loc[idx, 'Deck'] = 'A'\n",
    "\n",
    "# values in 'Deck' column are group by [A, BC, DR, FG, M]\n",
    "df_all['Deck'] = df_all['Deck'].replace(['B', 'C'], 'BC')\n",
    "df_all['Deck'] = df_all['Deck'].replace(['D', 'E'], 'DE')\n",
    "df_all['Deck'] = df_all['Deck'].replace(['F', 'G'], 'FG')\n",
    "# df_all['Deck'].value_counts()\n",
    "\n",
    "# Dropping the Cabin feature\n",
    "df_all.drop(['Cabin'], inplace=True, axis=1)\n",
    "\n",
    "df_train, df_test = divide_df(df_all)\n",
    "dfs = [df_train, df_test]\n",
    "\n",
    "for df in dfs:\n",
    "    display_missing(df)"
   ]
  },
  {
   "cell_type": "code",
   "execution_count": null,
   "metadata": {},
   "outputs": [],
   "source": [
    "ticket_counts = df_all['Ticket'].value_counts()\n",
    "\n",
    "# \"The fare for a single passenger\" is the avg of the fare over the ticket frequency.\n",
    "for t in ticket_counts.index:\n",
    "    idx = df_all[df_all['Ticket']==t].index\n",
    "    fare = df_all.loc[idx[0], 'Fare']\n",
    "    avg = round(fare / ticket_counts[t], 4)\n",
    "    df_all.loc[idx, 'avgFare'] = avg\n",
    "    df_all.loc[idx, 'TicketFreq'] = ticket_counts[t]\n",
    "\n",
    "# Compute the \"survival rate for each ticket\", if the needed data is missing, fill 0.3838 in.\n",
    "# 0.3838 is the survival rate over all.\n",
    "for t in ticket_counts.index:\n",
    "    idx = df_all[df_all['Ticket']==t].index\n",
    "    surv_notnull = sum(df_all.loc[idx, 'Survived'].notnull())\n",
    "    if surv_notnull==0 or ticket_counts[t]<=2:\n",
    "        df_all.loc[idx, 'TicketSurvivalRate'] = 0.3838\n",
    "    else:\n",
    "        try:\n",
    "            survived = df_all.loc[idx, 'Survived'].value_counts()[1.0]\n",
    "        except:\n",
    "            survived = 0\n",
    "        surv_rate = round(survived / surv_notnull, 4)\n",
    "        df_all.loc[idx, 'TicketSurvivalRate'] = surv_rate"
   ]
  },
  {
   "cell_type": "code",
   "execution_count": null,
   "metadata": {},
   "outputs": [],
   "source": [
    "# Extract family surname.\n",
    "df_all['Family'] = df_all['Name'].str.split(',', expand=True)[0]\n",
    "\n",
    "family_counts = df_all['Family'].value_counts()\n",
    "\n",
    "for name in family_counts.index:\n",
    "    idx = df_all[df_all['Family']==name].index\n",
    "    surv_notnull = sum(df_all.loc[idx, 'Survived'].notnull())\n",
    "    if surv_notnull==0 or family_counts[name]<=2:\n",
    "        df_all.loc[idx, 'FamilySurvivalRate'] = 0.3838\n",
    "    else:\n",
    "        try:\n",
    "            survived = df_all.loc[idx, 'Survived'].value_counts()[1.0]\n",
    "        except:\n",
    "            survived = 0\n",
    "        surv_rate = round(survived / surv_notnull, 4)\n",
    "        df_all.loc[idx, 'FamilySurvivalRate'] = surv_rate\n",
    "\n",
    "df_all['CompSurvivalRate'] = (df_all['TicketSurvivalRate'] + df_all['FamilySurvivalRate']) / 2"
   ]
  },
  {
   "cell_type": "code",
   "execution_count": null,
   "metadata": {},
   "outputs": [],
   "source": [
    "df_all['AgeLevel'] = pd.cut(df_all['Age'], [0, 15, 65, 100])\n",
    "# sns.catplot(x=\"AgeLevel\", y=\"Survived\", data=df_all, kind=\"bar\", palette=\"muted\")\n",
    "\n",
    "df_all['FareLevel'] = pd.qcut(df_all['avgFare'], 7)\n",
    "\n",
    "# 'Title' has 6 classes: Mr, Mrs, Master, Miss, NobleMen, NobleWomen.\n",
    "df_all['Title'] = df_all['Name'].str.split(', ', expand=True)[1].str.split('.', expand=True)[0]\n",
    "df_all['Title'] = df_all['Title'].replace(['Miss', 'Ms', 'Mlle'], 'Miss')\n",
    "df_all['Title'] = df_all['Title'].replace(['Rev', 'Dr', 'Col', 'Major', \n",
    "                                           'Capt', 'Don', 'Sir', 'Jonkheer'], 'NobleMen')\n",
    "df_all['Title'] = df_all['Title'].replace(['Dona', 'Lady', 'Mme', 'the Countess'], 'NobleWomen')\n",
    "\n",
    "# 'FamilySize' has 4 classes: Alone(1), Small(2-4), Medium(5-7), Large(8-).\n",
    "df_all['FamilySize'] = df_all['SibSp'] + df_all['Parch'] + 1\n",
    "family_map = {1: 'Alone', 2: 'Small', 3: 'Small', 4: 'Small', 5: 'Medium', 6: 'Medium', 7: 'Large', 8: 'Large', 11: 'Large'}\n",
    "df_all['FamilySize'] = df_all['FamilySize'].map(family_map)"
   ]
  },
  {
   "cell_type": "code",
   "execution_count": null,
   "metadata": {},
   "outputs": [],
   "source": [
    "# -----------------------------------------------------------------\n",
    "df_encode = df_all.copy()\n",
    "\n",
    "non_numeric_features = ['Embarked', 'Sex', 'Deck', 'FamilySize', 'AgeLevel', 'FareLevel', 'Title']\n",
    "for feature in non_numeric_features:\n",
    "    df_encode[feature] = LabelEncoder().fit_transform(df_encode[feature])"
   ]
  },
  {
   "cell_type": "code",
   "execution_count": null,
   "metadata": {},
   "outputs": [],
   "source": [
    "drop_cols = ['Age', 'Fare', 'Name', 'PassengerId', 'Ticket', 'avgFare', 'Parch', 'SibSp', 'Family',\n",
    "             'TicketSurvivalRate', 'FamilySurvivalRate']\n",
    "df_encode.drop(columns=drop_cols, inplace=True)\n",
    "df_encode.columns"
   ]
  },
  {
   "cell_type": "code",
   "execution_count": null,
   "metadata": {},
   "outputs": [],
   "source": [
    "col_order = ['Survived', 'Embarked', 'Pclass', 'Sex', 'Deck', 'TicketFreq', 'FamilySize', 'Title',\n",
    "             'AgeLevel', 'FareLevel', 'CompSurvivalRate']\n",
    "df_encode = df_encode.reindex(columns=col_order)\n",
    "\n",
    "expand_cols = ['Embarked', 'Pclass', 'Sex', 'Deck', 'FamilySize', 'AgeLevel', 'Title']\n",
    "df_encode = pd.get_dummies(df_encode, columns=expand_cols)"
   ]
  },
  {
   "cell_type": "code",
   "execution_count": null,
   "metadata": {},
   "outputs": [],
   "source": [
    "df_encode.loc[20, :]\n",
    "# len(df_encode.loc[0, :])"
   ]
  },
  {
   "cell_type": "code",
   "execution_count": null,
   "metadata": {},
   "outputs": [],
   "source": [
    "df_train, df_test = divide_df(df_encode)\n",
    "X_train = df_train.iloc[:, 1:]\n",
    "y_train = df_train.iloc[:, 0]\n",
    "\n",
    "print('X_train shape: {}'.format(X_train.shape))\n",
    "print('y_train shape: {}'.format(y_train.shape))\n",
    "print('df_test shape: {}'.format(df_test.shape))"
   ]
  },
  {
   "cell_type": "code",
   "execution_count": null,
   "metadata": {},
   "outputs": [],
   "source": [
    "rf = RandomForestClassifier(criterion='gini', \n",
    "                             n_estimators=1000,\n",
    "                             max_depth=7,\n",
    "                             min_samples_split=10,\n",
    "                             min_samples_leaf=6,\n",
    "                             max_features='auto',\n",
    "                             oob_score=True,\n",
    "                             random_state=1,\n",
    "                             n_jobs=-1)\n",
    "rf.fit(X_train, y_train)\n",
    "print(\"%.4f\" % rf.oob_score_)"
   ]
  },
  {
   "cell_type": "code",
   "execution_count": null,
   "metadata": {},
   "outputs": [],
   "source": [
    "imp = rf.feature_importances_\n",
    "imp_table = pd.DataFrame(X_train.columns)\n",
    "imp_table[1] = imp\n",
    "imp_table.sort_values(by=1, ascending=False)"
   ]
  },
  {
   "cell_type": "code",
   "execution_count": null,
   "metadata": {},
   "outputs": [],
   "source": [
    "res = rf.predict(df_test)\n",
    "res = res.astype(int)\n",
    "table = pd.read_csv('input/gender_submission.csv')\n",
    "table['Survived'] = res\n",
    "table.to_csv('submission.csv', index=False)"
   ]
  },
  {
   "cell_type": "code",
   "execution_count": null,
   "metadata": {},
   "outputs": [],
   "source": []
  }
 ],
 "metadata": {
  "kernelspec": {
   "display_name": "Python 3",
   "language": "python",
   "name": "python3"
  },
  "language_info": {
   "codemirror_mode": {
    "name": "ipython",
    "version": 3
   },
   "file_extension": ".py",
   "mimetype": "text/x-python",
   "name": "python",
   "nbconvert_exporter": "python",
   "pygments_lexer": "ipython3",
   "version": "3.6.3"
  }
 },
 "nbformat": 4,
 "nbformat_minor": 2
}
